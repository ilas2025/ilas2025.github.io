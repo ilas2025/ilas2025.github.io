{
 "cells": [
  {
   "cell_type": "markdown",
   "id": "6b9ca635-b60c-4d5d-91b0-2485e8a59c85",
   "metadata": {},
   "source": [
    "## Generate mini-symposium JSON\n",
    "\n",
    "Download data from [data](https://docs.google.com/spreadsheets/d/1IQkcuu7cRXA5wlwMJspwSSfZNHIdXoapZBKufdFIayc/edit?gid=1179422031#gid=1179422031)\n",
    "\n",
    "`minis.csv` + `mini-speakers.csv` --> `mini-all.json`"
   ]
  },
  {
   "cell_type": "code",
   "execution_count": null,
   "id": "b7b0a4d4-5794-4155-b107-af95b80925e0",
   "metadata": {},
   "outputs": [],
   "source": [
    "import pandas as pd\n",
    "import json\n",
    "\n",
    "minis = pd.read_csv(\"minis.csv\").set_index(\"SID\")\n",
    "mini_speakers = pd.read_csv(\"mini-speakers.csv\")\n",
    "mini_all = minis.copy()\n",
    "\n",
    "sdata = []\n",
    "for SID in minis.index:\n",
    "    mask = (mini_speakers.TYPE == SID)\n",
    "    query = mini_speakers.loc[mask, [\"NAME\", \"TITLE\"]].to_json(orient=\"records\", force_ascii=False)\n",
    "    sdata.append(json.loads(query))\n",
    "\n",
    "mini_all[\"SPEAKERS\"] = sdata\n",
    "# mini_all.reset_index(inplace=True)\n",
    "mini_all_json = mini_all.to_json(orient=\"index\", force_ascii=False, indent=4)\n",
    "with open(\"mini-all.json\", \"w\", encoding='utf-8') as f:\n",
    "    f.write(mini_all_json)"
   ]
  },
  {
   "cell_type": "code",
   "execution_count": null,
   "id": "57b88458-6c4f-419b-a5ce-2e6045f0ea4a",
   "metadata": {},
   "outputs": [],
   "source": [
    "%%writefile mini-json.py\n",
    "\n",
    "import pandas as pd\n",
    "import json\n",
    "\n",
    "minis = pd.read_csv(\"minis.csv\").set_index(\"SID\")\n",
    "mini_speakers = pd.read_csv(\"mini-speakers.csv\")\n",
    "mini_all = minis.copy()\n",
    "\n",
    "sdata = []\n",
    "for SID in minis.index:\n",
    "    mask = (mini_speakers.TYPE == SID)\n",
    "    query = mini_speakers.loc[mask, [\"NAME\", \"TITLE\"]].to_json(orient=\"records\", force_ascii=False)\n",
    "    sdata.append(json.loads(query))\n",
    "\n",
    "mini_all[\"SPEAKERS\"] = sdata\n",
    "# mini_all.reset_index(inplace=True)\n",
    "mini_all_json = mini_all.to_json(orient=\"index\", force_ascii=False, indent=4)\n",
    "with open(\"mini-all.json\", \"w\", encoding='utf-8') as f:\n",
    "    f.write(mini_all_json)"
   ]
  },
  {
   "cell_type": "code",
   "execution_count": null,
   "id": "a71c9f54-b9f3-43d5-9701-60e87fe06bb8",
   "metadata": {},
   "outputs": [],
   "source": []
  }
 ],
 "metadata": {
  "kernelspec": {
   "display_name": "Python 3 (ipykernel)",
   "language": "python",
   "name": "python3"
  },
  "language_info": {
   "codemirror_mode": {
    "name": "ipython",
    "version": 3
   },
   "file_extension": ".py",
   "mimetype": "text/x-python",
   "name": "python",
   "nbconvert_exporter": "python",
   "pygments_lexer": "ipython3",
   "version": "3.12.7"
  }
 },
 "nbformat": 4,
 "nbformat_minor": 5
}
